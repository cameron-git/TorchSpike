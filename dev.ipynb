{
 "cells": [
  {
   "cell_type": "code",
   "execution_count": 1,
   "metadata": {},
   "outputs": [],
   "source": [
    "import torch\n",
    "from torch import nn\n",
    "import timeit"
   ]
  },
  {
   "cell_type": "code",
   "execution_count": 2,
   "metadata": {},
   "outputs": [],
   "source": [
    "device = torch.device(\"cuda\")\n",
    "runs = 10\n",
    "neurons = [1024, 2048, 4096, 8192, 16384]\n",
    "x = torch.randn(500, 16, neurons[2], requires_grad=True).to(device)"
   ]
  },
  {
   "cell_type": "code",
   "execution_count": 14,
   "metadata": {},
   "outputs": [
    {
     "data": {
      "text/plain": [
       "(0.09028430079999908, 1386.00537109375)"
      ]
     },
     "execution_count": 14,
     "metadata": {},
     "output_type": "execute_result"
    }
   ],
   "source": [
    "class LIF(torch.autograd.Function):\n",
    "    @staticmethod\n",
    "    def forward(ctx, x, v, th, tau):\n",
    "        v += (x - v) / tau\n",
    "        x = (v >= th).float()\n",
    "        ctx.save_for_backward(x, v, th, tau)\n",
    "        v = v * (1 - x)\n",
    "        return x, v\n",
    "\n",
    "    @staticmethod\n",
    "    def backward(ctx, grad_x, grad_v):\n",
    "        x, v, th, tau = ctx.saved_tensors\n",
    "        sg = torch.sigmoid(v - th)\n",
    "        grad_v = grad_v * (1 - x) + (grad_x + grad_v * -v) * sg * (1 - sg)\n",
    "        grad_x = grad_v * (1 / tau)\n",
    "        grad_v *= (1 - 1 / tau)\n",
    "        return grad_x, grad_v, None, None\n",
    "\n",
    "lif = LIF.apply\n",
    "# lif = torch.compile(lif)\n",
    "v_threshold = torch.tensor(1.0)\n",
    "tau = torch.tensor(2)\n",
    "\n",
    "\n",
    "def run():\n",
    "    v = torch.zeros_like(x)\n",
    "    x.grad = None\n",
    "    v.grad = None\n",
    "    out = []\n",
    "    for xt in x:\n",
    "        spike, v = lif(xt, v, v_threshold, tau)\n",
    "        out += [spike]\n",
    "    out = torch.stack(out)\n",
    "    out.mean().backward()\n",
    "\n",
    "\n",
    "result = timeit.timeit(run, number=runs)\n",
    "result / runs, torch.cuda.max_memory_allocated() / 1024 ** 2"
   ]
  }
 ],
 "metadata": {
  "kernelspec": {
   "display_name": ".venv",
   "language": "python",
   "name": "python3"
  },
  "language_info": {
   "codemirror_mode": {
    "name": "ipython",
    "version": 3
   },
   "file_extension": ".py",
   "mimetype": "text/x-python",
   "name": "python",
   "nbconvert_exporter": "python",
   "pygments_lexer": "ipython3",
   "version": "3.10.12"
  }
 },
 "nbformat": 4,
 "nbformat_minor": 2
}
